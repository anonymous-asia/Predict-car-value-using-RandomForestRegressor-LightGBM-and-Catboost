{
  "nbformat": 4,
  "nbformat_minor": 0,
  "metadata": {
    "kernelspec": {
      "display_name": "Python 3",
      "language": "python",
      "name": "python3"
    },
    "language_info": {
      "codemirror_mode": {
        "name": "ipython",
        "version": 3
      },
      "file_extension": ".py",
      "mimetype": "text/x-python",
      "name": "python",
      "nbconvert_exporter": "python",
      "pygments_lexer": "ipython3",
      "version": "3.7.6"
    },
    "colab": {
      "name": "Predict car value using RandomForestRegressor, LightGBM and Catboost.ipynb",
      "provenance": []
    }
  },
  "cells": [
    {
      "cell_type": "markdown",
      "metadata": {
        "id": "Cy2vfiVo6Ouj"
      },
      "source": [
        "Rusty Bargain used car sales service is developing an app to attract new customers. In that app, you can quickly find out the market value of your car. You have access to historical data: technical specifications, trim versions, and prices. You need to build the model to determine the value. \n",
        "\n",
        "Rusty Bargain is interested in:\n",
        "\n",
        "- the quality of the prediction;\n",
        "- the speed of the prediction;\n",
        "- the time required for training"
      ]
    },
    {
      "cell_type": "markdown",
      "metadata": {
        "id": "9GpN-TSU6Ouk"
      },
      "source": [
        "# 1. Data preparation"
      ]
    },
    {
      "cell_type": "code",
      "metadata": {
        "scrolled": false,
        "id": "PYMEJ2mO6Ouk"
      },
      "source": [
        "#Imports\n",
        "\n",
        "import pandas as pd\n",
        "from sklearn.model_selection import train_test_split\n",
        "from sklearn.preprocessing import StandardScaler\n",
        "from sklearn.ensemble import RandomForestRegressor\n",
        "from sklearn.linear_model import LinearRegression\n",
        "from sklearn.metrics import mean_squared_error\n",
        "from lightgbm import LGBMRegressor\n",
        "from catboost import CatBoostRegressor\n",
        "from sklearn.model_selection import GridSearchCV\n",
        "from sklearn.model_selection import cross_val_score\n"
      ],
      "execution_count": null,
      "outputs": []
    },
    {
      "cell_type": "code",
      "metadata": {
        "id": "MNIHsF5t6Oul",
        "outputId": "a3ec8b6e-dea9-4a8b-accf-1405ee8dc9ed"
      },
      "source": [
        "#reading data\n",
        "\n",
        "data=pd.read_csv('/datasets/car_data.csv')\n",
        "data.head()\n",
        "\n",
        "#Dropped uniformative columns\n",
        "\n",
        "data1=data.drop(['DateCrawled', 'DateCreated', 'LastSeen', 'Model','NumberOfPictures'], axis=1)\n",
        "data1.info()\n",
        "print(data1.isnull().sum())"
      ],
      "execution_count": null,
      "outputs": [
        {
          "output_type": "stream",
          "text": [
            "<class 'pandas.core.frame.DataFrame'>\n",
            "RangeIndex: 354369 entries, 0 to 354368\n",
            "Data columns (total 11 columns):\n",
            "Price                354369 non-null int64\n",
            "VehicleType          316879 non-null object\n",
            "RegistrationYear     354369 non-null int64\n",
            "Gearbox              334536 non-null object\n",
            "Power                354369 non-null int64\n",
            "Mileage              354369 non-null int64\n",
            "RegistrationMonth    354369 non-null int64\n",
            "FuelType             321474 non-null object\n",
            "Brand                354369 non-null object\n",
            "NotRepaired          283215 non-null object\n",
            "PostalCode           354369 non-null int64\n",
            "dtypes: int64(6), object(5)\n",
            "memory usage: 29.7+ MB\n",
            "Price                    0\n",
            "VehicleType          37490\n",
            "RegistrationYear         0\n",
            "Gearbox              19833\n",
            "Power                    0\n",
            "Mileage                  0\n",
            "RegistrationMonth        0\n",
            "FuelType             32895\n",
            "Brand                    0\n",
            "NotRepaired          71154\n",
            "PostalCode               0\n",
            "dtype: int64\n"
          ],
          "name": "stdout"
        }
      ]
    },
    {
      "cell_type": "markdown",
      "metadata": {
        "id": "gsEuQGr_6Oun"
      },
      "source": [
        "The droped columns have too many unique values which will increase the size of features during OHE, hence these columns are dropped."
      ]
    },
    {
      "cell_type": "code",
      "metadata": {
        "scrolled": true,
        "id": "cJ8NJ_hf6Oun",
        "outputId": "f022e611-b0a8-4b28-f065-0e96bf5caeca"
      },
      "source": [
        "#filling NA values\n",
        "\n",
        "data1['VehicleType']=data1['VehicleType'].fillna(method='ffill')\n",
        "data1['Gearbox']=data1['Gearbox'].fillna(method='ffill')\n",
        "data1['FuelType']=data1['FuelType'].fillna(method='ffill')\n",
        "data1['NotRepaired']=data1['NotRepaired'].fillna(method='ffill')\n",
        "print(data1.isnull().sum())\n",
        "data1.dropna(inplace=True)\n",
        "data1.reset_index()\n",
        "data1.info()"
      ],
      "execution_count": null,
      "outputs": [
        {
          "output_type": "stream",
          "text": [
            "Price                0\n",
            "VehicleType          1\n",
            "RegistrationYear     0\n",
            "Gearbox              0\n",
            "Power                0\n",
            "Mileage              0\n",
            "RegistrationMonth    0\n",
            "FuelType             0\n",
            "Brand                0\n",
            "NotRepaired          1\n",
            "PostalCode           0\n",
            "dtype: int64\n",
            "<class 'pandas.core.frame.DataFrame'>\n",
            "Int64Index: 354368 entries, 1 to 354368\n",
            "Data columns (total 11 columns):\n",
            "Price                354368 non-null int64\n",
            "VehicleType          354368 non-null object\n",
            "RegistrationYear     354368 non-null int64\n",
            "Gearbox              354368 non-null object\n",
            "Power                354368 non-null int64\n",
            "Mileage              354368 non-null int64\n",
            "RegistrationMonth    354368 non-null int64\n",
            "FuelType             354368 non-null object\n",
            "Brand                354368 non-null object\n",
            "NotRepaired          354368 non-null object\n",
            "PostalCode           354368 non-null int64\n",
            "dtypes: int64(6), object(5)\n",
            "memory usage: 32.4+ MB\n"
          ],
          "name": "stdout"
        }
      ]
    },
    {
      "cell_type": "code",
      "metadata": {
        "id": "i-4pW8Lq6Oun",
        "outputId": "dcfcfb2e-ca04-4698-bb40-0ed5a356fa57"
      },
      "source": [
        "#OHE for categorical values\n",
        "\n",
        "data_ohe=pd.get_dummies(data1, drop_first=True)\n",
        "print(data_ohe.shape)\n",
        "print(data_ohe.columns)"
      ],
      "execution_count": null,
      "outputs": [
        {
          "output_type": "stream",
          "text": [
            "(354368, 60)\n",
            "Index(['Price', 'RegistrationYear', 'Power', 'Mileage', 'RegistrationMonth',\n",
            "       'PostalCode', 'VehicleType_convertible', 'VehicleType_coupe',\n",
            "       'VehicleType_other', 'VehicleType_sedan', 'VehicleType_small',\n",
            "       'VehicleType_suv', 'VehicleType_wagon', 'Gearbox_manual',\n",
            "       'FuelType_electric', 'FuelType_gasoline', 'FuelType_hybrid',\n",
            "       'FuelType_lpg', 'FuelType_other', 'FuelType_petrol', 'Brand_audi',\n",
            "       'Brand_bmw', 'Brand_chevrolet', 'Brand_chrysler', 'Brand_citroen',\n",
            "       'Brand_dacia', 'Brand_daewoo', 'Brand_daihatsu', 'Brand_fiat',\n",
            "       'Brand_ford', 'Brand_honda', 'Brand_hyundai', 'Brand_jaguar',\n",
            "       'Brand_jeep', 'Brand_kia', 'Brand_lada', 'Brand_lancia',\n",
            "       'Brand_land_rover', 'Brand_mazda', 'Brand_mercedes_benz', 'Brand_mini',\n",
            "       'Brand_mitsubishi', 'Brand_nissan', 'Brand_opel', 'Brand_peugeot',\n",
            "       'Brand_porsche', 'Brand_renault', 'Brand_rover', 'Brand_saab',\n",
            "       'Brand_seat', 'Brand_skoda', 'Brand_smart', 'Brand_sonstige_autos',\n",
            "       'Brand_subaru', 'Brand_suzuki', 'Brand_toyota', 'Brand_trabant',\n",
            "       'Brand_volkswagen', 'Brand_volvo', 'NotRepaired_yes'],\n",
            "      dtype='object')\n"
          ],
          "name": "stdout"
        }
      ]
    },
    {
      "cell_type": "code",
      "metadata": {
        "id": "YrM7Famp6Ouo",
        "outputId": "c30e3f59-254c-450b-8c3b-9a27d61f3624"
      },
      "source": [
        "#Spliting data into target and validation set and standarising data\n",
        "\n",
        "target=data_ohe['Price']\n",
        "features=data_ohe.drop('Price', axis=1)\n",
        "features_train, features_test, target_train, target_test=train_test_split(features, target, test_size=0.25, random_state=12345)\n",
        "\n",
        "numeric=['RegistrationYear', 'Power', 'Mileage', 'RegistrationMonth','PostalCode']\n",
        "\n",
        "scaler=StandardScaler()\n",
        "scaler.fit(features_train[numeric])\n",
        "features_train[numeric]=scaler.transform(features_train[numeric])\n",
        "features_test[numeric]=scaler.transform(features_test[numeric])\n",
        "\n",
        "print(features_train.shape)\n",
        "print(features_test.shape)\n"
      ],
      "execution_count": null,
      "outputs": [
        {
          "output_type": "stream",
          "text": [
            "/opt/conda/lib/python3.7/site-packages/ipykernel_launcher.py:11: SettingWithCopyWarning: \n",
            "A value is trying to be set on a copy of a slice from a DataFrame.\n",
            "Try using .loc[row_indexer,col_indexer] = value instead\n",
            "\n",
            "See the caveats in the documentation: http://pandas.pydata.org/pandas-docs/stable/user_guide/indexing.html#returning-a-view-versus-a-copy\n",
            "  # This is added back by InteractiveShellApp.init_path()\n",
            "/opt/conda/lib/python3.7/site-packages/pandas/core/indexing.py:494: SettingWithCopyWarning: \n",
            "A value is trying to be set on a copy of a slice from a DataFrame.\n",
            "Try using .loc[row_indexer,col_indexer] = value instead\n",
            "\n",
            "See the caveats in the documentation: http://pandas.pydata.org/pandas-docs/stable/user_guide/indexing.html#returning-a-view-versus-a-copy\n",
            "  self.obj[item] = s\n"
          ],
          "name": "stderr"
        },
        {
          "output_type": "stream",
          "text": [
            "(265776, 59)\n",
            "(88592, 59)\n"
          ],
          "name": "stdout"
        },
        {
          "output_type": "stream",
          "text": [
            "/opt/conda/lib/python3.7/site-packages/ipykernel_launcher.py:12: SettingWithCopyWarning: \n",
            "A value is trying to be set on a copy of a slice from a DataFrame.\n",
            "Try using .loc[row_indexer,col_indexer] = value instead\n",
            "\n",
            "See the caveats in the documentation: http://pandas.pydata.org/pandas-docs/stable/user_guide/indexing.html#returning-a-view-versus-a-copy\n",
            "  if sys.path[0] == '':\n",
            "/opt/conda/lib/python3.7/site-packages/pandas/core/indexing.py:494: SettingWithCopyWarning: \n",
            "A value is trying to be set on a copy of a slice from a DataFrame.\n",
            "Try using .loc[row_indexer,col_indexer] = value instead\n",
            "\n",
            "See the caveats in the documentation: http://pandas.pydata.org/pandas-docs/stable/user_guide/indexing.html#returning-a-view-versus-a-copy\n",
            "  self.obj[item] = s\n"
          ],
          "name": "stderr"
        }
      ]
    },
    {
      "cell_type": "markdown",
      "metadata": {
        "id": "9loCOFVa6Oup"
      },
      "source": [
        "# 2. Model training"
      ]
    },
    {
      "cell_type": "code",
      "metadata": {
        "id": "IpxNFhYf6Oup",
        "outputId": "28bf7a92-06ab-402d-a806-a6c131a484e7"
      },
      "source": [
        "#Linear regression\n",
        "\n",
        "model_LR=LinearRegression()\n",
        "%time model_LR.fit(features_train, target_train)\n",
        "\n",
        "\n",
        "%time pred_LR=model_LR.predict(features_test)\n",
        "rmse_LR=mean_squared_error(target_test,pred_LR)**0.5\n",
        "print(\"Linear Regression RMSE:\",rmse_LR)\n"
      ],
      "execution_count": null,
      "outputs": [
        {
          "output_type": "stream",
          "text": [
            "CPU times: user 2.4 s, sys: 1.24 s, total: 3.63 s\n",
            "Wall time: 3.61 s\n",
            "CPU times: user 31.4 ms, sys: 61.3 ms, total: 92.7 ms\n",
            "Wall time: 122 ms\n",
            "Linear Regression RMSE: 3484.852558653384\n"
          ],
          "name": "stdout"
        }
      ]
    },
    {
      "cell_type": "code",
      "metadata": {
        "id": "O5nLEIJm6Oup",
        "outputId": "d60fb4f6-81b5-4206-9c4d-1efc1cfc13a5"
      },
      "source": [
        "%%time\n",
        "#hyperparameter tuning process for the random forest\n",
        "\n",
        "model_RF=RandomForestRegressor()\n",
        "param_RF={'n_estimators':[80, 90, 100],'max_depth':[30,40,50]}\n",
        "gd_sr_RF=GridSearchCV(estimator=model_RF, param_grid = param_RF, cv = 3, n_jobs = -1, verbose = 2)\n",
        "gd_sr_RF.fit(features_train, target_train)\n",
        "gd_sr_RF.best_params_"
      ],
      "execution_count": null,
      "outputs": [
        {
          "output_type": "stream",
          "text": [
            "Fitting 3 folds for each of 6 candidates, totalling 18 fits\n",
            "[CV] max_depth=30, n_estimators=60 ...................................\n"
          ],
          "name": "stdout"
        },
        {
          "output_type": "stream",
          "text": [
            "[Parallel(n_jobs=-1)]: Using backend SequentialBackend with 1 concurrent workers.\n"
          ],
          "name": "stderr"
        },
        {
          "output_type": "stream",
          "text": [
            "[CV] .................... max_depth=30, n_estimators=60, total= 1.8min\n",
            "[CV] max_depth=30, n_estimators=60 ...................................\n"
          ],
          "name": "stdout"
        },
        {
          "output_type": "stream",
          "text": [
            "[Parallel(n_jobs=-1)]: Done   1 out of   1 | elapsed:  1.8min remaining:    0.0s\n"
          ],
          "name": "stderr"
        },
        {
          "output_type": "stream",
          "text": [
            "[CV] .................... max_depth=30, n_estimators=60, total= 1.8min\n",
            "[CV] max_depth=30, n_estimators=60 ...................................\n",
            "[CV] .................... max_depth=30, n_estimators=60, total= 2.0min\n",
            "[CV] max_depth=30, n_estimators=80 ...................................\n",
            "[CV] .................... max_depth=30, n_estimators=80, total= 2.4min\n",
            "[CV] max_depth=30, n_estimators=80 ...................................\n",
            "[CV] .................... max_depth=30, n_estimators=80, total= 2.5min\n",
            "[CV] max_depth=30, n_estimators=80 ...................................\n",
            "[CV] .................... max_depth=30, n_estimators=80, total= 2.6min\n",
            "[CV] max_depth=40, n_estimators=60 ...................................\n",
            "[CV] .................... max_depth=40, n_estimators=60, total= 1.9min\n",
            "[CV] max_depth=40, n_estimators=60 ...................................\n",
            "[CV] .................... max_depth=40, n_estimators=60, total= 1.9min\n",
            "[CV] max_depth=40, n_estimators=60 ...................................\n",
            "[CV] .................... max_depth=40, n_estimators=60, total= 2.0min\n",
            "[CV] max_depth=40, n_estimators=80 ...................................\n",
            "[CV] .................... max_depth=40, n_estimators=80, total= 2.7min\n",
            "[CV] max_depth=40, n_estimators=80 ...................................\n",
            "[CV] .................... max_depth=40, n_estimators=80, total= 2.7min\n",
            "[CV] max_depth=40, n_estimators=80 ...................................\n",
            "[CV] .................... max_depth=40, n_estimators=80, total= 2.7min\n",
            "[CV] max_depth=50, n_estimators=60 ...................................\n",
            "[CV] .................... max_depth=50, n_estimators=60, total= 2.1min\n",
            "[CV] max_depth=50, n_estimators=60 ...................................\n",
            "[CV] .................... max_depth=50, n_estimators=60, total= 2.1min\n",
            "[CV] max_depth=50, n_estimators=60 ...................................\n",
            "[CV] .................... max_depth=50, n_estimators=60, total= 2.0min\n",
            "[CV] max_depth=50, n_estimators=80 ...................................\n",
            "[CV] .................... max_depth=50, n_estimators=80, total= 2.8min\n",
            "[CV] max_depth=50, n_estimators=80 ...................................\n",
            "[CV] .................... max_depth=50, n_estimators=80, total= 2.9min\n",
            "[CV] max_depth=50, n_estimators=80 ...................................\n",
            "[CV] .................... max_depth=50, n_estimators=80, total= 2.9min\n"
          ],
          "name": "stdout"
        },
        {
          "output_type": "stream",
          "text": [
            "[Parallel(n_jobs=-1)]: Done  18 out of  18 | elapsed: 41.7min finished\n"
          ],
          "name": "stderr"
        },
        {
          "output_type": "stream",
          "text": [
            "CPU times: user 46min 1s, sys: 1.27 s, total: 46min 2s\n",
            "Wall time: 46min 10s\n"
          ],
          "name": "stdout"
        },
        {
          "output_type": "execute_result",
          "data": {
            "text/plain": [
              "{'max_depth': 40, 'n_estimators': 80}"
            ]
          },
          "metadata": {
            "tags": []
          },
          "execution_count": 21
        }
      ]
    },
    {
      "cell_type": "code",
      "metadata": {
        "id": "gctx2pQL6Ouq",
        "outputId": "3979105c-54d4-4227-b350-6624d4ccc7f4"
      },
      "source": [
        "model_RF_test=RandomForestRegressor(max_depth=40, n_estimators=80, random_state=12345)\n",
        "%time model_RF_test.fit(features_train, target_train)\n",
        "\n",
        "%time model_RF_pred=model_RF_test.predict(features_test)\n",
        "rmse_RF=mean_squared_error(target_test, model_RF_pred)**0.5\n",
        "print('rmse_RF:', rmse_RF)"
      ],
      "execution_count": null,
      "outputs": [
        {
          "output_type": "stream",
          "text": [
            "CPU times: user 4min 31s, sys: 819 ms, total: 4min 32s\n",
            "Wall time: 4min 33s\n",
            "CPU times: user 5.08 s, sys: 7.43 ms, total: 5.08 s\n",
            "Wall time: 5.09 s\n",
            "rmse_RF: 1779.4234940368472\n"
          ],
          "name": "stdout"
        }
      ]
    },
    {
      "cell_type": "markdown",
      "metadata": {
        "id": "9kDYXB1A6Ouq"
      },
      "source": [
        "GridSearchCV shows best parameters as max_depth=40 and n_estimators=80"
      ]
    },
    {
      "cell_type": "code",
      "metadata": {
        "id": "ZvrVw8-f6Ouq",
        "outputId": "7c99912a-5f67-476b-bb25-211609675c4d"
      },
      "source": [
        "#lightGBM\n",
        "\n",
        "#changing data types to category for lightGBM\n",
        "data1['VehicleType']=data1['VehicleType'].astype('category')\n",
        "data1['Gearbox']=data1['Gearbox'].astype('category')\n",
        "data1['FuelType']=data1['FuelType'].astype('category')\n",
        "data1['NotRepaired']=data1['NotRepaired'].astype('category')\n",
        "data1['Brand']=data1['Brand'].astype('category')\n",
        "\n",
        "#Spliting data into target and test set\n",
        "tar=data1['Price']\n",
        "feat=data1.drop('Price', axis=1)\n",
        "feat_train, feat_test, tar_train, tar_test=train_test_split(feat, tar, test_size=0.25, random_state=12345)\n",
        "\n",
        "model_lgb=LGBMRegressor(num_leaves=50, max_depth=6, learning_rate=0.2, verbose=10, feature_fraction=0.6)\n",
        "%time model_lgb.fit(feat_train, tar_train)\n",
        "\n",
        "%time pred_lgb=model_lgb.predict(feat_test)\n",
        "rmse_lgb=mean_squared_error(tar_test, pred_lgb)**0.5\n",
        "print('rmse_lgb:', rmse_lgb)\n"
      ],
      "execution_count": null,
      "outputs": [
        {
          "output_type": "stream",
          "text": [
            "CPU times: user 5min 21s, sys: 1.53 s, total: 5min 23s\n",
            "Wall time: 5min 24s\n",
            "CPU times: user 1.45 s, sys: 0 ns, total: 1.45 s\n",
            "Wall time: 1.5 s\n",
            "rmse_lgb: 1845.6702603415713\n"
          ],
          "name": "stdout"
        }
      ]
    },
    {
      "cell_type": "code",
      "metadata": {
        "scrolled": true,
        "id": "CXuINym16Our",
        "outputId": "136eac09-e23a-4110-f38a-69857117a44a"
      },
      "source": [
        "#catboost\n",
        "\n",
        "cat_features=['VehicleType', 'Gearbox', 'FuelType', 'NotRepaired', 'Brand']\n",
        "\n",
        "model_cat = CatBoostRegressor(iterations=50, learning_rate=0.5)\n",
        "%time model_cat.fit(feat_train, tar_train, cat_features=cat_features, verbose=10)\n",
        "\n",
        "%time pred_cat=model_cat.predict(feat_test)\n",
        "rmse_cat=mean_squared_error(tar_test, pred_lgb)**0.5\n",
        "print('rmse_cat:', rmse_cat)"
      ],
      "execution_count": null,
      "outputs": [
        {
          "output_type": "stream",
          "text": [
            "0:\tlearn: 3299.2275274\ttotal: 482ms\tremaining: 23.6s\n",
            "10:\tlearn: 2088.6686588\ttotal: 4.27s\tremaining: 15.1s\n",
            "20:\tlearn: 2007.4571125\ttotal: 7.67s\tremaining: 10.6s\n",
            "30:\tlearn: 1962.6346228\ttotal: 11.2s\tremaining: 6.83s\n",
            "40:\tlearn: 1928.3818079\ttotal: 14.7s\tremaining: 3.22s\n",
            "49:\tlearn: 1907.8837838\ttotal: 17.8s\tremaining: 0us\n",
            "CPU times: user 15.3 s, sys: 3.41 s, total: 18.7 s\n",
            "Wall time: 20 s\n",
            "CPU times: user 140 ms, sys: 16.5 ms, total: 156 ms\n",
            "Wall time: 139 ms\n",
            "rmse_cat: 1845.6702603415713\n"
          ],
          "name": "stdout"
        }
      ]
    },
    {
      "cell_type": "markdown",
      "metadata": {
        "id": "ot2lcR2z6Ous"
      },
      "source": [
        "Used GridSearch for hyperparameter tuning in randomForestregressor.\n",
        "Tuned both max_depth and n_estimators for Randomforest\n",
        "Calculated time for both training and prediction"
      ]
    },
    {
      "cell_type": "markdown",
      "metadata": {
        "id": "JknukKIZ6Ous"
      },
      "source": [
        "# 3. Model analysis"
      ]
    },
    {
      "cell_type": "code",
      "metadata": {
        "id": "eQRv1tjj6Ous",
        "outputId": "6d7c7273-6a13-4813-8fc6-25e2542bd4ff"
      },
      "source": [
        "print(\"Linear Regression RMSE:\",rmse_LR)\n",
        "print('rmse_RF:', rmse_RF)\n",
        "print('rmse_lgb:', rmse_lgb)\n",
        "print('rmse_cat:', rmse_cat)"
      ],
      "execution_count": null,
      "outputs": [
        {
          "output_type": "stream",
          "text": [
            "Linear Regression RMSE: 3484.852558653384\n",
            "rmse_RF: 1779.4234940368472\n",
            "rmse_lgb: 1845.6702603415713\n",
            "rmse_cat: 1845.6702603415713\n"
          ],
          "name": "stdout"
        }
      ]
    },
    {
      "cell_type": "markdown",
      "metadata": {
        "id": "xw4UcONK6Out"
      },
      "source": [
        "All three models, RandomForestRegressor, LightGBM and Catboost performed much better than Linear rgression (LR). The hypertuning time for RF through GridSearch took more than 46 min while training time was 4min. Training time for LightGBM and Catboost.\n",
        "\n",
        "MSE was lowest for RF, but further fine tuning in the hyperparameters of LightGBM and Catboost can be done to further reduce the mse value.\n",
        "\n",
        "Catboost has much lower training time then LightGBM while the mse is same for both."
      ]
    }
  ]
}